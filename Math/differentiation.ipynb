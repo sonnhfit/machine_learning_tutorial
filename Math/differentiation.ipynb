{
 "cells": [
  {
   "cell_type": "markdown",
   "metadata": {},
   "source": [
    "# Numerical Differentiation"
   ]
  },
  {
   "cell_type": "markdown",
   "metadata": {},
   "source": [
    "Trong giải tích toán học, đạo hàm của một hàm số là một đại lượng **mô tả sự biến thiên** của hàm tại một điểm nào đó. Đạo hàm là một khái niệm cơ bản trong giải tích. Chẳng hạn, trong vật lý, đạo hàm biểu diễn vận tốc tức thời của một chất điểm chuyển động\n"
   ]
  },
  {
   "cell_type": "code",
   "execution_count": 1,
   "metadata": {},
   "outputs": [],
   "source": [
    "import numpy as np\n",
    "import matplotlib.pyplot as plt\n",
    "%matplotlib inline"
   ]
  },
  {
   "cell_type": "markdown",
   "metadata": {},
   "source": [
    "## Derivative\n",
    "\n",
    "Đạo hàm(derivative) của 1 hàm số(function) $f(x)$ tại $x=a$ là giới hạn (limit)\n",
    "\n",
    "$$\n",
    "f'(a) = \\lim_{h \\to 0} \\frac{f(a+h) - f(a)}{h}\n",
    "$$"
   ]
  },
  {
   "cell_type": "markdown",
   "metadata": {},
   "source": [
    "## Difference Formulas (Công thức tính sự khác biệt)\n",
    "\n",
    "There are 3 main [difference formulas]\n",
    "Ba loại của sự khác biệt hữu hạn. Sự khác biệt trung tâm về x cho phép gần đúng nhất của đạo hàm của hàm tại x.\n",
    "\n",
    "![diff type](https://upload.wikimedia.org/wikipedia/commons/thumb/9/90/Finite_difference_method.svg/2560px-Finite_difference_method.svg.png)\n",
    "\n",
    "The *forward difference formula* with step size $h$ is\n",
    "\n",
    "$$\n",
    "f'(a) \\approx \\frac{f(a + h) - f(a)}{h}\n",
    "$$\n",
    "\n",
    "The *backward difference formula* with step size $h$ is\n",
    "\n",
    "$$\n",
    "f'(a) \\approx \\frac{f(a) - f(a - h)}{h}\n",
    "$$\n",
    "\n",
    "The *central difference formula* with step size $h$ is trung bình của the forward và backwards difference formulas\n",
    "\n",
    "$$\n",
    "f'(a) \\approx \\frac{1}{2} \\left( \\frac{f(a + h) - f(a)}{h} + \\frac{f(a) - f(a - h)}{h} \\right) = \\frac{f(a + h) - f(a - h)}{2h}\n",
    "$$"
   ]
  },
  {
   "cell_type": "markdown",
   "metadata": {},
   "source": [
    "## Implementation\n",
    "\n",
    "Hãy viết 1 hàm tên là `derivative` có các tham số đầu vào `f`, `a`, `method` và `h` (với giá trị mặc định là `method='central'` and `h=0.01`) and trả về công thức tính độ chênh lệch tương ứng $f'(a)$ với step size $h$."
   ]
  },
  {
   "cell_type": "code",
   "execution_count": 2,
   "metadata": {},
   "outputs": [],
   "source": [
    "def derivative(f,a,method='central',h=0.01):\n",
    "    '''Compute the difference formula for f'(a) with step size h.\n",
    "\n",
    "    Parameters\n",
    "    ----------\n",
    "    f : function\n",
    "        Vectorized function of one variable\n",
    "    a : number\n",
    "        Compute derivative at x = a\n",
    "    method : string\n",
    "        Difference formula: 'forward', 'backward' or 'central'\n",
    "    h : number\n",
    "        Step size in difference formula\n",
    "\n",
    "    Returns\n",
    "    -------\n",
    "    float\n",
    "        Difference formula:\n",
    "            central: f(a+h) - f(a-h))/2h\n",
    "            forward: f(a+h) - f(a))/h\n",
    "            backward: f(a) - f(a-h))/h            \n",
    "    '''\n",
    "    if method == 'central':\n",
    "        return (f(a + h) - f(a - h))/(2*h)\n",
    "    elif method == 'forward':\n",
    "        return (f(a + h) - f(a))/h\n",
    "    elif method == 'backward':\n",
    "        return (f(a) - f(a - h))/h\n",
    "    else:\n",
    "        raise ValueError(\"Method phải là 'central', 'forward' hoặc 'backward'.\")"
   ]
  },
  {
   "cell_type": "markdown",
   "metadata": {},
   "source": [
    "Test hàm vừa viết với một số hàm cơ bản. For example, we know\n",
    "\n",
    "$$\n",
    "\\left. \\frac{d}{dx} \\left( \\cos x \\right) \\, \\right|_{x=0} = -\\sin(0) = 0\n",
    "$$\n",
    "\n",
    "Tính thử"
   ]
  },
  {
   "cell_type": "code",
   "execution_count": 5,
   "metadata": {},
   "outputs": [
    {
     "name": "stdout",
     "output_type": "stream",
     "text": [
      "Kiểu dữ liệu của function:  <ufunc 'cos'>\n",
      "ket qua tinh dao ham la:  0.0\n"
     ]
    }
   ],
   "source": [
    "print(\"Kiểu dữ liệu của function: \", np.cos)\n",
    "kq = derivative(np.cos,0)\n",
    "print(\"ket qua tinh dao ham la: \", kq)"
   ]
  },
  {
   "cell_type": "code",
   "execution_count": 4,
   "metadata": {},
   "outputs": [
    {
     "data": {
      "text/plain": [
       "0.0"
      ]
     },
     "execution_count": 4,
     "metadata": {},
     "output_type": "execute_result"
    }
   ],
   "source": [
    "derivative(np.cos,0,method='forward',h=1e-8)"
   ]
  },
  {
   "cell_type": "markdown",
   "metadata": {},
   "source": [
    "We also know\n",
    "\n",
    "$$\n",
    "\\left. \\frac{d}{dx} \\left( e^x \\right) \\, \\right|_{x=0} = e^0 = 1\n",
    "$$\n",
    "\n",
    "and we compute"
   ]
  },
  {
   "cell_type": "code",
   "execution_count": 5,
   "metadata": {},
   "outputs": [
    {
     "data": {
      "text/plain": [
       "1.0000000016668897"
      ]
     },
     "execution_count": 5,
     "metadata": {},
     "output_type": "execute_result"
    }
   ],
   "source": [
    "derivative(np.exp,0,h=0.0001)"
   ]
  },
  {
   "cell_type": "code",
   "execution_count": 6,
   "metadata": {},
   "outputs": [
    {
     "data": {
      "text/plain": [
       "0.9999500016666385"
      ]
     },
     "execution_count": 6,
     "metadata": {},
     "output_type": "execute_result"
    }
   ],
   "source": [
    "derivative(np.exp,0,method='backward',h=0.0001)\n"
   ]
  },
  {
   "cell_type": "code",
   "execution_count": 13,
   "metadata": {},
   "outputs": [
    {
     "name": "stdout",
     "output_type": "stream",
     "text": [
      "x= [ 0.          1.11111111  2.22222222  3.33333333  4.44444444  5.55555556\n",
      "  6.66666667  7.77777778  8.88888889 10.        ]\n",
      "g= [1 2 3 4 5 6 7 8 9]\n"
     ]
    }
   ],
   "source": [
    "x = np.linspace(0,10,10)\n",
    "g = np.arange(1, 10)\n",
    "print(\"x=\",   x)\n",
    "print(\"g=\", g)"
   ]
  },
  {
   "cell_type": "markdown",
   "metadata": {},
   "source": [
    "Notice that our function can take an array of inputs for $a$ and return the derivatives for each $a$ value. For example, we can plot the derivative of $\\sin(x)$:"
   ]
  },
  {
   "cell_type": "code",
   "execution_count": 16,
   "metadata": {},
   "outputs": [
    {
     "name": "stdout",
     "output_type": "stream",
     "text": [
      "[ 0.          0.1586663   0.31733259  0.47599889  0.63466518  0.79333148\n",
      "  0.95199777  1.11066407  1.26933037  1.42799666  1.58666296  1.74532925\n",
      "  1.90399555  2.06266184  2.22132814  2.37999443  2.53866073  2.69732703\n",
      "  2.85599332  3.01465962  3.17332591  3.33199221  3.4906585   3.6493248\n",
      "  3.8079911   3.96665739  4.12532369  4.28398998  4.44265628  4.60132257\n",
      "  4.75998887  4.91865516  5.07732146  5.23598776  5.39465405  5.55332035\n",
      "  5.71198664  5.87065294  6.02931923  6.18798553  6.34665183  6.50531812\n",
      "  6.66398442  6.82265071  6.98131701  7.1399833   7.2986496   7.45731589\n",
      "  7.61598219  7.77464849  7.93331478  8.09198108  8.25064737  8.40931367\n",
      "  8.56797996  8.72664626  8.88531256  9.04397885  9.20264515  9.36131144\n",
      "  9.51997774  9.67864403  9.83731033  9.99597663 10.15464292 10.31330922\n",
      " 10.47197551 10.63064181 10.7893081  10.9479744  11.10664069 11.26530699\n",
      " 11.42397329 11.58263958 11.74130588 11.89997217 12.05863847 12.21730476\n",
      " 12.37597106 12.53463736 12.69330365 12.85196995 13.01063624 13.16930254\n",
      " 13.32796883 13.48663513 13.64530142 13.80396772 13.96263402 14.12130031\n",
      " 14.27996661 14.4386329  14.5972992  14.75596549 14.91463179 15.07329809\n",
      " 15.23196438 15.39063068 15.54929697 15.70796327]\n",
      "tinh dao ham:  [ 0.99998333  0.98742243  0.95005528  0.88882063  0.80525684  0.7014632\n",
      "  0.58004724  0.44405921  0.29691543  0.14231247 -0.0158657  -0.17364528\n",
      " -0.32706251 -0.4722632  -0.60559959 -0.72372198 -0.82366285 -0.90291149\n",
      " -0.95947698 -0.99193828 -0.99947988 -0.98191233 -0.93967696 -0.87383481\n",
      " -0.78603999 -0.6784981  -0.55391083 -0.41540809 -0.26646937 -0.11083635\n",
      "  0.04758112  0.20480325  0.35688027  0.49999167  0.63054216  0.74525203\n",
      "  0.84123951  0.91609319  0.96793257  0.99545533  0.99797004  0.97541353\n",
      "  0.92835246  0.85796911  0.76603168  0.65484982  0.52721668  0.38633869\n",
      "  0.23575501  0.07924864 -0.07924864 -0.23575501 -0.38633869 -0.52721668\n",
      " -0.65484982 -0.76603168 -0.85796911 -0.92835246 -0.97541353 -0.99797004\n",
      " -0.99545533 -0.96793257 -0.91609319 -0.84123951 -0.74525203 -0.63054216\n",
      " -0.49999167 -0.35688027 -0.20480325 -0.04758112  0.11083635  0.26646937\n",
      "  0.41540809  0.55391083  0.6784981   0.78603999  0.87383481  0.93967696\n",
      "  0.98191233  0.99947988  0.99193828  0.95947698  0.90291149  0.82366285\n",
      "  0.72372198  0.60559959  0.4722632   0.32706251  0.17364528  0.0158657\n",
      " -0.14231247 -0.29691543 -0.44405921 -0.58004724 -0.7014632  -0.80525684\n",
      " -0.88882063 -0.95005528 -0.98742243 -0.99998333]\n"
     ]
    },
    {
     "data": {
      "image/png": "[encoded data removed]",
      "text/plain": [
       "<Figure size 864x360 with 1 Axes>"
      ]
     },
     "metadata": {
      "needs_background": "light"
     },
     "output_type": "display_data"
    }
   ],
   "source": [
    "x = np.linspace(0,5*np.pi,100)\n",
    "print(x)\n",
    "dydx = derivative(np.sin,x)\n",
    "print(\"tinh dao ham: \", dydx)\n",
    "dYdx = np.cos(x)\n",
    "\n",
    "plt.figure(figsize=(12,5))\n",
    "plt.plot(x,dydx,'r.',label='Central Difference')\n",
    "plt.plot(x,dYdx,'b',label='True Value')\n",
    "\n",
    "plt.title('Central Difference Derivative of y = cos(x)')\n",
    "plt.legend(loc='best')\n",
    "plt.show()"
   ]
  },
  {
   "cell_type": "markdown",
   "metadata": {},
   "source": [
    "Let's compute and plot the derivative of a complicated function\n",
    "\n",
    "$$\n",
    "y=\\left(\\frac{4x^2+2x+1}{x+2e^x}\\right)^x\n",
    "$$"
   ]
  },
  {
   "cell_type": "code",
   "execution_count": 20,
   "metadata": {
    "scrolled": true
   },
   "outputs": [
    {
     "name": "stdout",
     "output_type": "stream",
     "text": [
      "kiểu dữ liệu của f:  <function <lambda> at 0x7fe62d1a8ca0>\n"
     ]
    },
    {
     "data": {
      "image/png": "[encoded data removed]",
      "text/plain": [
       "<Figure size 864x360 with 1 Axes>"
      ]
     },
     "metadata": {
      "needs_background": "light"
     },
     "output_type": "display_data"
    }
   ],
   "source": [
    "\n",
    "f = lambda x: ((4*x**2 + 2*x + 1)/(x + 2*np.exp(x)))**x\n",
    "print(\"kiểu dữ liệu của f: \",  f)\n",
    "y = f(x)\n",
    "dydx = derivative(f,x)\n",
    "\n",
    "plt.figure(figsize=(12,5))\n",
    "plt.plot(x,y,label='y=f(x)')\n",
    "plt.plot(x,dydx,label=\"Central Difference y=f'(x)\")\n",
    "plt.legend()\n",
    "plt.grid(True)\n",
    "\n",
    "plt.show()"
   ]
  },
  {
   "cell_type": "code",
   "execution_count": null,
   "metadata": {},
   "outputs": [],
   "source": []
  },
  {
   "cell_type": "markdown",
   "metadata": {},
   "source": [
    "## Error Formulas\n",
    "    \n",
    "Chúng ta có 1 câu hỏi: giá trị gần đúng được đưa ra bởi các công thức forward, backwards and central difference tốt như thế nào? Chúng  ta dự trên công thức [Taylor's Theorem](https://en.wikipedia.org/wiki/Taylor%27s_theorem).\n",
    "\n",
    "\n",
    "- Khai  triển taylor dùng để sấp sỉ 1 hàm số khả vi bởi 1 đa thức tại 1 điểm cho trước\n",
    "\n",
    "- **Hàm số khả vi**\n",
    "một hàm số khả vi của một biến số thực là một hàm có đạo hàm tại tất cả các điểm thuộc miền xác định của nó.\n",
    "---\n",
    "\n",
    "**Theorem.** Khai triển bậc $n$ đa  thức Taylor của $f(x)$ at $x=a$ như sau:\n",
    "\n",
    "$$\n",
    "f(x) = f(a) + f'(a)(x - a) + \\frac{f''(a)}{2}(x-a)^2 + \\cdots + \\frac{f^{(n)}(a)}{n!}(x-a)^n + \\frac{f^{(n+1)}(c)}{(n+1)!}(x-a)^{n+1}\n",
    "$$\n",
    "\n",
    "Với $c$ between $x$ and $a$. Cần nó vì nó gần đúng nên cần thêm vào (same bias)\n",
    "\n",
    "---\n",
    "\n",
    "**Theorem.** Lỗi của công thức forward difference là:\n",
    "\n",
    "$$\n",
    "\\left| \\, \\frac{f(a+h) - f(a)}{h} - f'(a) \\, \\right| \\leq \\frac{hK_2}{2}\n",
    "$$\n",
    "\n",
    "Ở đây ta có $\\left| \\, f''(x) \\, \\right| \\leq K_2$ for all $x \\in [a,a+h]$. ($ K_2 $ 2  là đạo  hàm bậc 2) Điều này tương tự với the backward difference formula.\n",
    "\n",
    "*Bằng chứng*. Nhìn vào công thức taylor bậc 1:\n",
    "\n",
    "$$\n",
    "f(x) = f(a) + f'(a)(x-a) + \\frac{f''(c)}{2}(x-a)^{2}\n",
    "$$\n",
    "\n",
    "Thay $x = a+h$ vào công thức bên trên và viết lại\n",
    "\n",
    "\\begin{align}\n",
    "f(a+h) &= f(a) + f'(a)h + \\frac{f''(c)}{2}h^{2} \\\\\\\n",
    "f(a+h) - f(a) &= f'(a)h + \\frac{f''(c)}{2}h^{2} \\\\\\\n",
    "\\frac{f(a+h) - f(a)}{h} &= f'(a) + \\frac{f''(c)}{2}h \\\\\\\n",
    "\\frac{f(a+h) - f(a)}{h} - f'(a) &= \\frac{f''(c)}{2}h\n",
    "\\end{align}\n",
    "\n",
    "Let $K_2$ such that $\\left| \\, f''(x) \\, \\right| \\leq K_2$ for all $x \\in [a,a+h]$ and we see the result.\n",
    "\n",
    "---\n",
    "\n",
    "**Theorem.** The central difference formula error is:\n",
    "\n",
    "$$\n",
    "\\left| \\frac{f(a+h) - f(a-h)}{2h} - f'(a) \\right| \\leq \\frac{h^2K_3}{6}\n",
    "$$\n",
    "\n",
    "where $|f'''(x)| \\leq K_3$ for all $x \\in [a-h,a+h]$.\n",
    "\n",
    "*Proof*. Look at the Taylor polynomial of degree 2:\n",
    "\n",
    "$$\n",
    "f(x) = f(a) + f'(a)(x-a) + \\frac{f''(a)}{2}(x-a)^2 + \\frac{f'''(c)}{6}(x-a)^{3}\n",
    "$$\n",
    "\n",
    "Let $x = a + h$ and also $x = a - h$ and write:\n",
    "\n",
    "\\begin{align}\n",
    "f(a+h) &= f(a) + f'(a)h + \\frac{f''(a)}{2}h^2 + \\frac{f'''(c_1)}{6}h^{3} \\\\\\\n",
    "f(a-h) &= f(a) - f'(a)h + \\frac{f''(a)}{2}h^2 - \\frac{f'''(c_2)}{6}h^{3} \\\\\\\n",
    "f(a+h) - f(a-h) &= 2 f'(a)h + \\frac{f'''(c_1)}{6}h^{3} + \\frac{f'''(c_2)}{6}h^{3} \\\\\\\n",
    "\\frac{f(a+h) - f(a-h)}{2h} - f'(a) &= \\frac{f'''(c_1) + f'''(c_2)}{12}h^{2}\n",
    "\\end{align}\n",
    "\n",
    "Chú ý rằng $f'''(x)$ là liên tục (by giả thiết) and $(f'''(c_1) + f'''(c_2))/2$ is between $f'''(c_1)$ and $f'''(c_2)$ and và tồn  tại 1 $c$ between $c_1$ and $c_2$ such that\n",
    "\n",
    "$$\n",
    "f'''(c) = \\frac{f'''(c_1) + f'''(c_2)}{2}\n",
    "$$\n",
    "\n",
    "by the Intermediate Value Theorem. Let $K_3$ such that $\\left| \\, f'''(x) \\, \\right| \\leq K_3$ for all $x \\in [a-h,a+h]$ and we see the result.\n",
    "\n",
    "---"
   ]
  },
  {
   "cell_type": "markdown",
   "metadata": {},
   "source": [
    "## scipy.misc.derivative\n",
    "\n",
    "The [SciPy](https://scipy.org/) function `scipy.misc.derivative` computes derivatives using the central difference formula."
   ]
  },
  {
   "cell_type": "code",
   "execution_count": 9,
   "metadata": {},
   "outputs": [],
   "source": [
    "from scipy.misc import derivative"
   ]
  },
  {
   "cell_type": "code",
   "execution_count": 10,
   "metadata": {},
   "outputs": [
    {
     "data": {
      "text/plain": [
       "array([ 1.0016675 ,  2.72281456,  7.40137735, 20.11902956, 54.68919246])"
      ]
     },
     "execution_count": 10,
     "metadata": {},
     "output_type": "execute_result"
    }
   ],
   "source": [
    "x = np.arange(0,5)\n",
    "derivative(np.exp,x,dx=0.1)"
   ]
  },
  {
   "cell_type": "markdown",
   "metadata": {},
   "source": [
    "## Higher Order Derivatives\n",
    "\n",
    "*Under construction*"
   ]
  },
  {
   "cell_type": "markdown",
   "metadata": {},
   "source": [
    "## Examples\n",
    "\n",
    "### Taylor series\n",
    "\n",
    "Let's plot the Taylor polynomial $T_3(x)$ of degree 3 centered at $x=0$ for $f(x) = \\frac{3e^x}{x^2 + x + 1}$ over the interval $x \\in [-3,3]$. First, let's plot the graph $y=f(x)$:"
   ]
  },
  {
   "cell_type": "code",
   "execution_count": 11,
   "metadata": {},
   "outputs": [
    {
     "data": {
      "image/png": "[encoded data removed]",
      "text/plain": [
       "<Figure size 432x288 with 1 Axes>"
      ]
     },
     "metadata": {
      "needs_background": "light"
     },
     "output_type": "display_data"
    }
   ],
   "source": [
    "x = np.linspace(-3,3,100)\n",
    "f = lambda x: 3*np.exp(x) / (x**2 + x + 1)\n",
    "y = f(x)\n",
    "plt.plot(x,y);\n",
    "plt.show()"
   ]
  },
  {
   "cell_type": "markdown",
   "metadata": {},
   "source": [
    "Let's compute the coefficients $a_n = \\frac{f^{(n)}(0)}{n!}$ for $n=0,1,2,3$:"
   ]
  },
  {
   "cell_type": "code",
   "execution_count": 12,
   "metadata": {},
   "outputs": [
    {
     "name": "stdout",
     "output_type": "stream",
     "text": [
      "3.0 1.9999983891239026e-06 -1.50000037502096 1.9999920608526622\n"
     ]
    }
   ],
   "source": [
    "a0 = f(0)\n",
    "a1 = derivative(f,0,dx=0.001,n=1)\n",
    "a2 = derivative(f,0,dx=0.001,n=2) / 2\n",
    "a3 = derivative(f,0,dx=0.001,n=3,order=5) / 6\n",
    "# The parameter order specifies the number of points to use\n",
    "# The value order must be odd and at least n + 1\n",
    "\n",
    "print(a0,a1,a2,a3)"
   ]
  },
  {
   "cell_type": "markdown",
   "metadata": {},
   "source": [
    "Finally, let's plot $f(x)$ and $T_3(x)$ together:"
   ]
  },
  {
   "cell_type": "code",
   "execution_count": 13,
   "metadata": {
    "scrolled": true
   },
   "outputs": [
    {
     "data": {
      "image/png": "[encoded data removed]",
      "text/plain": [
       "<Figure size 432x288 with 1 Axes>"
      ]
     },
     "metadata": {
      "needs_background": "light"
     },
     "output_type": "display_data"
    }
   ],
   "source": [
    "T3 = a0 + a1*x + a2*x**2 + a3*x**3\n",
    "plt.plot(x,y,x,T3), plt.xlim([-3,3]), plt.ylim([0,5]);\n",
    "plt.show()"
   ]
  },
  {
   "cell_type": "markdown",
   "metadata": {},
   "source": [
    "### Arc length (Độ  dài cung)\n",
    "\n",
    "![image](https://s3-us-west-2.amazonaws.com/courses-images/wp-content/uploads/sites/2332/2018/01/11213108/CNX_Calc_Figure_06_04_001.jpg)\n",
    "\n",
    "\n",
    "\n",
    "Viết 1 hàm called `arc_length` which takes parameters `f`, `a`, `b`, `h` and `N` and returns an approximation of the arc length of $f(x)$ from $a$ to $b$\n",
    "\n",
    "$$\n",
    "L \\approx \\int_a^b \\sqrt{ 1 + \\left( f'(x) \\right)^2 } dx\n",
    "$$\n",
    "\n",
    "hàm sử dụng quy tắc hình thang (`scipy.integrate.trapz`) to estimate the integral and the central difference formula to approximate $f'(x)$. Note that we can't use the central difference formula at the endpoints because they use $x$ values outside the interval $[a,b]$ and our function may not be defined there."
   ]
  },
  {
   "cell_type": "code",
   "execution_count": null,
   "metadata": {},
   "outputs": [],
   "source": [
    "import scipy.integrate as spi\n",
    "\n",
    "def arc_length(f,a,b,h=0.001,N=1000):\n",
    "    '''Approximate the arc length of y=f(x) from x=a to x=b.\n",
    "\n",
    "    Parameters\n",
    "    ----------\n",
    "    f : (vectorized) function of one variable\n",
    "    a,b : numbers defining the interval [a,b]\n",
    "    h : step size to use in difference formulas\n",
    "    N : number of subintervals in trapezoid method\n",
    "\n",
    "    Returns\n",
    "    -------\n",
    "    Approximation of the integral \\int_a^b \\sqrt{1 + (f'(x))^2} dx\n",
    "    representing the arc length of y=f(x) from x=a to x=b.\n",
    "    '''\n",
    "    x = np.linspace(a,b,N+1)\n",
    "    y = f(x)\n",
    "\n",
    "    # Compute central difference formula for x_k for 1 &lt;= k &lt;= N-1\n",
    "    h = np.min([h,(b-a)/N]) # Make sure that h is smaller than the size of the subintervals\n",
    "    x_interior = x[1:-1]\n",
    "    df_interior = (f(x_interior + h) - f(x_interior - h))/(2*h)\n",
    "\n",
    "    # Use forward/backward difference formula at the endpoints\n",
    "    df_a = (f(a + h) - f(a))/h\n",
    "    df_b = (f(b) - f(b - h))/h\n",
    "    df = np.hstack([[df_a],df_interior,[df_b]])\n",
    "\n",
    "    # Compute values of the integrand in arc length formula\n",
    "    y = np.sqrt(1 + df**2)\n",
    "\n",
    "    # Compute the integral\n",
    "    L = spi.trapz(y,x)\n",
    "\n",
    "    return L"
   ]
  },
  {
   "cell_type": "markdown",
   "metadata": {},
   "source": [
    "Let's test our function with input where we know the exact output. For example, the arc length of $f(x)=x$ from $a=0$ to $b=1$ is $L=\\sqrt{2}$ and we compute"
   ]
  },
  {
   "cell_type": "code",
   "execution_count": 15,
   "metadata": {},
   "outputs": [
    {
     "data": {
      "text/plain": [
       "1.4142135623730958"
      ]
     },
     "execution_count": 15,
     "metadata": {},
     "output_type": "execute_result"
    }
   ],
   "source": [
    "arc_length(lambda x: x,0,1)"
   ]
  },
  {
   "cell_type": "markdown",
   "metadata": {},
   "source": [
    "and compare with the exact value"
   ]
  },
  {
   "cell_type": "code",
   "execution_count": 16,
   "metadata": {},
   "outputs": [
    {
     "data": {
      "text/plain": [
       "1.4142135623730951"
      ]
     },
     "execution_count": 16,
     "metadata": {},
     "output_type": "execute_result"
    }
   ],
   "source": [
    "np.sqrt(2)"
   ]
  },
  {
   "cell_type": "markdown",
   "metadata": {},
   "source": [
    "The arc length of $f(x)=\\sqrt{1 - x^2}$ from $a=0$ to $b=\\frac{1}{\\sqrt{2}}$ is $L=\\frac{\\pi}{4}$ and we compute"
   ]
  },
  {
   "cell_type": "code",
   "execution_count": 17,
   "metadata": {},
   "outputs": [
    {
     "data": {
      "text/plain": [
       "0.7853980801486478"
      ]
     },
     "execution_count": 17,
     "metadata": {},
     "output_type": "execute_result"
    }
   ],
   "source": [
    "arc_length(lambda x: np.sqrt(1 - x**2),0,1/np.sqrt(2))"
   ]
  },
  {
   "cell_type": "markdown",
   "metadata": {},
   "source": [
    "and compare to the exact value"
   ]
  },
  {
   "cell_type": "code",
   "execution_count": 18,
   "metadata": {},
   "outputs": [
    {
     "data": {
      "text/plain": [
       "0.7853981633974483"
      ]
     },
     "execution_count": 18,
     "metadata": {},
     "output_type": "execute_result"
    }
   ],
   "source": [
    "np.pi/4"
   ]
  },
  {
   "cell_type": "markdown",
   "metadata": {},
   "source": [
    "The arc length of $f(x)=\\frac{2x^{3/2}}{3}$ from $a=0$ to $b=1$ is $L = \\frac{2}{3}\\left( 2^{3/2} - 1 \\right)$ and we compute"
   ]
  },
  {
   "cell_type": "code",
   "execution_count": 19,
   "metadata": {},
   "outputs": [
    {
     "data": {
      "text/plain": [
       "1.2189514473615233"
      ]
     },
     "execution_count": 19,
     "metadata": {},
     "output_type": "execute_result"
    }
   ],
   "source": [
    "arc_length(lambda x: 2*(x**(3/2))/3,0,1,h=10**(-10),N=10**5)"
   ]
  },
  {
   "cell_type": "markdown",
   "metadata": {},
   "source": [
    "and compare to the exact value"
   ]
  },
  {
   "cell_type": "code",
   "execution_count": 20,
   "metadata": {},
   "outputs": [
    {
     "data": {
      "text/plain": [
       "1.2189514164974602"
      ]
     },
     "execution_count": 20,
     "metadata": {},
     "output_type": "execute_result"
    }
   ],
   "source": [
    "(2/3)*(2**(3/2) - 1)"
   ]
  },
  {
   "cell_type": "markdown",
   "metadata": {},
   "source": [
    "## Exercises\n",
    "\n",
    "1. Dùng `derivative` để tính giá trị và hiển thị đạo hàm  ở dạng đồ thị của hàm $f'(x)$  với \n",
    "\n",
    "    $$\n",
    "    f(x) = \\frac{7x^3-5x+1}{2x^4+x^2+1} \\ , \\ x \\in [-5,5]\n",
    "    $$\n"
   ]
  },
  {
   "cell_type": "code",
   "execution_count": null,
   "metadata": {},
   "outputs": [],
   "source": []
  }
 ],
 "metadata": {
  "kernelspec": {
   "display_name": "Python 3",
   "language": "python",
   "name": "python3"
  },
  "language_info": {
   "codemirror_mode": {
    "name": "ipython",
    "version": 3
   },
   "file_extension": ".py",
   "mimetype": "text/x-python",
   "name": "python",
   "nbconvert_exporter": "python",
   "pygments_lexer": "ipython3",
   "version": "3.8.5"
  }
 },
 "nbformat": 4,
 "nbformat_minor": 2
}
